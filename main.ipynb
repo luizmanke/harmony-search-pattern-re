{
 "cells": [
  {
   "cell_type": "markdown",
   "id": "dce6642f",
   "metadata": {},
   "source": [
    "# Harmony Search Algorithms Applied to Portuguese Relation Extraction"
   ]
  },
  {
   "cell_type": "code",
   "execution_count": 1,
   "id": "f4960398",
   "metadata": {},
   "outputs": [],
   "source": [
    "import pickle"
   ]
  },
  {
   "cell_type": "code",
   "execution_count": 2,
   "id": "5d8e6f90",
   "metadata": {},
   "outputs": [],
   "source": [
    "def save(data, file_name):\n",
    "    with open(f\"workspace/{file_name}.pkl\", \"wb\") as file:\n",
    "        pickle.dump(data, file)"
   ]
  },
  {
   "cell_type": "code",
   "execution_count": 3,
   "id": "f6af7ae1",
   "metadata": {},
   "outputs": [],
   "source": [
    "def load(file_name):\n",
    "    with open(f\"workspace/{file_name}.pkl\", \"rb\") as file:\n",
    "        data = pickle.load(file)\n",
    "    return data"
   ]
  },
  {
   "cell_type": "markdown",
   "id": "8a818521",
   "metadata": {},
   "source": [
    "## Load dataset"
   ]
  },
  {
   "cell_type": "code",
   "execution_count": 4,
   "id": "e1273093",
   "metadata": {},
   "outputs": [],
   "source": [
    "from source.datasets.dbpedia import DBpedia"
   ]
  },
  {
   "cell_type": "code",
   "execution_count": 5,
   "id": "903af92f",
   "metadata": {},
   "outputs": [],
   "source": [
    "dataset = DBpedia(\"data/DBpediaRelations-PT-0.2.txt\")"
   ]
  },
  {
   "cell_type": "code",
   "execution_count": 6,
   "id": "93935e1d",
   "metadata": {},
   "outputs": [
    {
     "name": "stdout",
     "output_type": "stream",
     "text": [
      "number of samples: 15392\n"
     ]
    }
   ],
   "source": [
    "print(f\"number of samples: {len(dataset.data)}\")"
   ]
  },
  {
   "cell_type": "code",
   "execution_count": 7,
   "id": "bf2357b4",
   "metadata": {},
   "outputs": [
    {
     "name": "stdout",
     "output_type": "stream",
     "text": [
      "number of positive samples: 7696\n"
     ]
    }
   ],
   "source": [
    "print(f\"number of positive samples: {sum(dataset.labels)}\")"
   ]
  },
  {
   "cell_type": "code",
   "execution_count": 8,
   "id": "143134d4",
   "metadata": {},
   "outputs": [
    {
     "data": {
      "text/plain": [
       "{'sentence': 'Albert Einstein nasceu na região alemã de Württemberg, na cidade de Ulm, numa família judaica.',\n",
       " 'entity_1': 'Albert Einstein',\n",
       " 'entity_2': 'Württemberg'}"
      ]
     },
     "execution_count": 8,
     "metadata": {},
     "output_type": "execute_result"
    }
   ],
   "source": [
    "dataset.data[0]"
   ]
  },
  {
   "cell_type": "markdown",
   "id": "4d80f83a",
   "metadata": {},
   "source": [
    "## Create features"
   ]
  },
  {
   "cell_type": "code",
   "execution_count": 9,
   "id": "c7e04161",
   "metadata": {},
   "outputs": [],
   "source": [
    "from source.features.tagger import Tagger"
   ]
  },
  {
   "cell_type": "code",
   "execution_count": 10,
   "id": "c1407aea",
   "metadata": {},
   "outputs": [],
   "source": [
    "tagger = Tagger()"
   ]
  },
  {
   "cell_type": "code",
   "execution_count": 11,
   "id": "f0d4022e",
   "metadata": {},
   "outputs": [
    {
     "name": "stderr",
     "output_type": "stream",
     "text": [
      "100%|██████████| 15392/15392 [01:18<00:00, 196.72it/s]                                                                                             \n"
     ]
    }
   ],
   "source": [
    "features_raw = tagger.tag(dataset.data)"
   ]
  },
  {
   "cell_type": "code",
   "execution_count": 12,
   "id": "734d3010",
   "metadata": {},
   "outputs": [],
   "source": [
    "save(features_raw, \"features_raw\")"
   ]
  },
  {
   "cell_type": "code",
   "execution_count": 13,
   "id": "cf54d9c4",
   "metadata": {},
   "outputs": [],
   "source": [
    "features_raw = load(\"features_raw\")"
   ]
  },
  {
   "cell_type": "code",
   "execution_count": 14,
   "id": "979fa62e",
   "metadata": {},
   "outputs": [],
   "source": [
    "# Remove incorrect samples\n",
    "\n",
    "data, labels, features = [], [], []\n",
    "for item, label, feature in zip(dataset.data, dataset.labels, features_raw):\n",
    "    if feature:\n",
    "        data.append(item)\n",
    "        labels.append(label)\n",
    "        features.append(feature)"
   ]
  },
  {
   "cell_type": "code",
   "execution_count": 15,
   "id": "5970399c",
   "metadata": {},
   "outputs": [
    {
     "data": {
      "text/plain": [
       "{'sentence': 'Albert Einstein nasceu na região alemã de Württemberg, na cidade de Ulm, numa família judaica.',\n",
       " 'entity_1': 'Albert Einstein',\n",
       " 'entity_2': 'Württemberg'}"
      ]
     },
     "execution_count": 15,
     "metadata": {},
     "output_type": "execute_result"
    }
   ],
   "source": [
    "data[0]"
   ]
  },
  {
   "cell_type": "code",
   "execution_count": 16,
   "id": "af78579d",
   "metadata": {},
   "outputs": [
    {
     "data": {
      "text/plain": [
       "{'between': [100, 85, 92, 84, 85]}"
      ]
     },
     "execution_count": 16,
     "metadata": {},
     "output_type": "execute_result"
    }
   ],
   "source": [
    "features[0]"
   ]
  },
  {
   "cell_type": "code",
   "execution_count": 17,
   "id": "9ce0e3a4",
   "metadata": {
    "scrolled": true
   },
   "outputs": [
    {
     "data": {
      "text/plain": [
       "{'between': ['VERB', 'ADP', 'NOUN', 'ADJ', 'ADP']}"
      ]
     },
     "execution_count": 17,
     "metadata": {},
     "output_type": "execute_result"
    }
   ],
   "source": [
    "tagger.convert_tags_to_strings(features[0])"
   ]
  },
  {
   "cell_type": "markdown",
   "id": "26d273ef",
   "metadata": {},
   "source": [
    "## Select data"
   ]
  },
  {
   "cell_type": "code",
   "execution_count": 18,
   "id": "859b1abb",
   "metadata": {},
   "outputs": [],
   "source": [
    "import random\n",
    "from sklearn.model_selection import train_test_split"
   ]
  },
  {
   "cell_type": "code",
   "execution_count": 19,
   "id": "363a0ee6",
   "metadata": {},
   "outputs": [],
   "source": [
    "random.seed(42)"
   ]
  },
  {
   "cell_type": "code",
   "execution_count": 20,
   "id": "d3cdd805",
   "metadata": {},
   "outputs": [],
   "source": [
    "# Resample due to time limitations\n",
    "\n",
    "N_SAMPLES = 2000\n",
    "\n",
    "index = [i for i in range(0, len(features))]\n",
    "index_sample = random.sample(index, N_SAMPLES)\n",
    "features_sample = [features[i] for i in index_sample]\n",
    "labels_sample = [labels[i] for i in index_sample]"
   ]
  },
  {
   "cell_type": "code",
   "execution_count": 21,
   "id": "8153a133",
   "metadata": {},
   "outputs": [],
   "source": [
    "features_train, features_test, labels_train, labels_test = train_test_split(\n",
    "    features_sample,\n",
    "    labels_sample,\n",
    "    train_size=0.7,\n",
    "    random_state=42\n",
    ")"
   ]
  },
  {
   "cell_type": "code",
   "execution_count": 22,
   "id": "762cfb63",
   "metadata": {},
   "outputs": [
    {
     "name": "stdout",
     "output_type": "stream",
     "text": [
      "number of train samples: 1400\n",
      "number of test samples: 600\n"
     ]
    }
   ],
   "source": [
    "print(f\"number of train samples: {len(features_train)}\")\n",
    "print(f\"number of test samples: {len(features_test)}\")"
   ]
  },
  {
   "cell_type": "code",
   "execution_count": 23,
   "id": "e68b3048",
   "metadata": {},
   "outputs": [
    {
     "name": "stdout",
     "output_type": "stream",
     "text": [
      "number of positive train samples: 677\n",
      "number of positive test samples: 308\n"
     ]
    }
   ],
   "source": [
    "print(f\"number of positive train samples: {sum(labels_train)}\")\n",
    "print(f\"number of positive test samples: {sum(labels_test)}\")"
   ]
  },
  {
   "cell_type": "markdown",
   "id": "d51610f2",
   "metadata": {},
   "source": [
    "## Original HS"
   ]
  },
  {
   "cell_type": "code",
   "execution_count": 24,
   "id": "ff2582db",
   "metadata": {},
   "outputs": [],
   "source": [
    "from source.harmony_searches.original import OriginalHS"
   ]
  },
  {
   "cell_type": "code",
   "execution_count": 25,
   "id": "5f7952de",
   "metadata": {},
   "outputs": [],
   "source": [
    "N_RUNS = 100\n",
    "N_GENERATIONS = 500\n",
    "N_HARMONIES = 50\n",
    "N_PARAMETERS = 15\n",
    "HMCR = 0.9\n",
    "PAR = 0.5"
   ]
  },
  {
   "cell_type": "code",
   "execution_count": 26,
   "id": "e3ad4d70",
   "metadata": {},
   "outputs": [],
   "source": [
    "original_hs = OriginalHS(\n",
    "    n_runs=N_RUNS,\n",
    "    n_generations=N_GENERATIONS,\n",
    "    n_harmonies=N_HARMONIES,\n",
    "    n_parameters=N_PARAMETERS,\n",
    "    hmcr=HMCR,\n",
    "    par=PAR\n",
    ")"
   ]
  },
  {
   "cell_type": "code",
   "execution_count": 27,
   "id": "b1b83f1a",
   "metadata": {
    "scrolled": true
   },
   "outputs": [
    {
     "name": "stdout",
     "output_type": "stream",
     "text": [
      "Wall time: 1h 47min 47s\n"
     ]
    }
   ],
   "source": [
    "%%time\n",
    "\n",
    "original_hs.fit(features_train, labels_train)"
   ]
  },
  {
   "cell_type": "code",
   "execution_count": 28,
   "id": "bb6f789c",
   "metadata": {},
   "outputs": [
    {
     "data": {
      "text/plain": [
       "{'f1': '0.6716 ± 0.02002',\n",
       " 'precision': '0.7592 ± 0.0174',\n",
       " 'recall': '0.6035 ± 0.03495'}"
      ]
     },
     "execution_count": 28,
     "metadata": {},
     "output_type": "execute_result"
    }
   ],
   "source": [
    "original_hs.evaluate(features_test, labels_test)"
   ]
  },
  {
   "cell_type": "code",
   "execution_count": 29,
   "id": "cef7e843",
   "metadata": {},
   "outputs": [],
   "source": [
    "save(original_hs, \"original_hs\")"
   ]
  },
  {
   "cell_type": "markdown",
   "id": "3a918bb6",
   "metadata": {},
   "source": [
    "## Improved HS"
   ]
  },
  {
   "cell_type": "code",
   "execution_count": 30,
   "id": "e461700c",
   "metadata": {},
   "outputs": [],
   "source": [
    "from source.harmony_searches.improved import ImprovedHS"
   ]
  },
  {
   "cell_type": "code",
   "execution_count": 31,
   "id": "a8460cb4",
   "metadata": {},
   "outputs": [],
   "source": [
    "PAR_MIN = 0.01\n",
    "PAR_MAX = 0.99"
   ]
  },
  {
   "cell_type": "code",
   "execution_count": 32,
   "id": "83338b80",
   "metadata": {},
   "outputs": [],
   "source": [
    "improved_hs = ImprovedHS(\n",
    "    n_runs=N_RUNS,\n",
    "    n_generations=N_GENERATIONS,\n",
    "    n_harmonies=N_HARMONIES,\n",
    "    n_parameters=N_PARAMETERS,\n",
    "    hmcr=HMCR,\n",
    "    par_min=PAR_MIN,\n",
    "    par_max=PAR_MAX\n",
    ")"
   ]
  },
  {
   "cell_type": "code",
   "execution_count": 33,
   "id": "c6c4a3c9",
   "metadata": {
    "scrolled": true
   },
   "outputs": [
    {
     "name": "stdout",
     "output_type": "stream",
     "text": [
      "Wall time: 1h 48min 53s\n"
     ]
    }
   ],
   "source": [
    "%%time\n",
    "\n",
    "improved_hs.fit(features_train, labels_train)"
   ]
  },
  {
   "cell_type": "code",
   "execution_count": 34,
   "id": "5db91af2",
   "metadata": {},
   "outputs": [
    {
     "data": {
      "text/plain": [
       "{'f1': '0.6495 ± 0.01738',\n",
       " 'precision': '0.7756 ± 0.02656',\n",
       " 'recall': '0.56 ± 0.02977'}"
      ]
     },
     "execution_count": 34,
     "metadata": {},
     "output_type": "execute_result"
    }
   ],
   "source": [
    "improved_hs.evaluate(features_test, labels_test)"
   ]
  },
  {
   "cell_type": "code",
   "execution_count": 35,
   "id": "fb2a2f2f",
   "metadata": {},
   "outputs": [],
   "source": [
    "save(improved_hs, \"improved_hs\")"
   ]
  },
  {
   "cell_type": "markdown",
   "id": "e661a901",
   "metadata": {},
   "source": [
    "## Parameter Adaptive HS"
   ]
  },
  {
   "cell_type": "code",
   "execution_count": 36,
   "id": "7833f8d6",
   "metadata": {},
   "outputs": [],
   "source": [
    "from source.harmony_searches.parameter_adaptive import ParameterAdaptiveHS"
   ]
  },
  {
   "cell_type": "code",
   "execution_count": 37,
   "id": "1a1eaf16",
   "metadata": {},
   "outputs": [],
   "source": [
    "HMCR_MIN = 0.70\n",
    "HMCR_MAX = 0.99"
   ]
  },
  {
   "cell_type": "code",
   "execution_count": 38,
   "id": "b80ba9d8",
   "metadata": {},
   "outputs": [],
   "source": [
    "parameter_adaptive_hs = ParameterAdaptiveHS(\n",
    "    n_runs=N_RUNS,\n",
    "    n_generations=N_GENERATIONS,\n",
    "    n_harmonies=N_HARMONIES,\n",
    "    n_parameters=N_PARAMETERS,\n",
    "    hmcr_min=HMCR_MIN,\n",
    "    hmcr_max=HMCR_MAX,\n",
    "    par_min=PAR_MIN,\n",
    "    par_max=PAR_MAX\n",
    ")"
   ]
  },
  {
   "cell_type": "code",
   "execution_count": 39,
   "id": "446b487a",
   "metadata": {
    "scrolled": true
   },
   "outputs": [
    {
     "name": "stdout",
     "output_type": "stream",
     "text": [
      "Wall time: 1h 47min\n"
     ]
    }
   ],
   "source": [
    "%%time\n",
    "\n",
    "parameter_adaptive_hs.fit(features_train, labels_train)"
   ]
  },
  {
   "cell_type": "code",
   "execution_count": 40,
   "id": "a323e725",
   "metadata": {},
   "outputs": [
    {
     "data": {
      "text/plain": [
       "{'f1': '0.6476 ± 0.01355',\n",
       " 'precision': '0.7903 ± 0.03319',\n",
       " 'recall': '0.5499 ± 0.0251'}"
      ]
     },
     "execution_count": 40,
     "metadata": {},
     "output_type": "execute_result"
    }
   ],
   "source": [
    "parameter_adaptive_hs.evaluate(features_test, labels_test)"
   ]
  },
  {
   "cell_type": "code",
   "execution_count": 41,
   "id": "85bf1e06",
   "metadata": {},
   "outputs": [],
   "source": [
    "save(parameter_adaptive_hs, \"parameter_adaptive_hs\")"
   ]
  },
  {
   "cell_type": "markdown",
   "id": "eb235145",
   "metadata": {},
   "source": [
    "## Statistical Tests"
   ]
  },
  {
   "cell_type": "code",
   "execution_count": 4,
   "id": "8b3da336",
   "metadata": {},
   "outputs": [],
   "source": [
    "original_hs = load(\"original_hs\")"
   ]
  },
  {
   "cell_type": "code",
   "execution_count": 5,
   "id": "e15b49bb",
   "metadata": {},
   "outputs": [],
   "source": [
    "improved_hs = load(\"improved_hs\")"
   ]
  },
  {
   "cell_type": "code",
   "execution_count": 6,
   "id": "9c3aad79",
   "metadata": {},
   "outputs": [],
   "source": [
    "parameter_adaptive_hs = load(\"parameter_adaptive_hs\")"
   ]
  },
  {
   "cell_type": "markdown",
   "id": "7263c4e0",
   "metadata": {},
   "source": [
    "### Histories Visualization"
   ]
  },
  {
   "cell_type": "code",
   "execution_count": 7,
   "id": "0bbaaceb",
   "metadata": {},
   "outputs": [],
   "source": [
    "from source.statistics import convergence, distribution, diversity"
   ]
  },
  {
   "cell_type": "code",
   "execution_count": 8,
   "id": "f7f53e38",
   "metadata": {},
   "outputs": [],
   "source": [
    "histories = {\n",
    "    \"original\": original_hs.histories,\n",
    "    \"improved\": improved_hs.histories,\n",
    "    \"parameter_adaptive\": parameter_adaptive_hs.histories\n",
    "}"
   ]
  },
  {
   "cell_type": "code",
   "execution_count": 9,
   "id": "df1afaaa",
   "metadata": {},
   "outputs": [
    {
     "data": {
      "image/png": "[encoded data removed]",
      "text/plain": [
       "<Figure size 1152x432 with 1 Axes>"
      ]
     },
     "metadata": {
      "needs_background": "light"
     },
     "output_type": "display_data"
    }
   ],
   "source": [
    "distribution.plot(histories)"
   ]
  },
  {
   "cell_type": "code",
   "execution_count": 10,
   "id": "748d142a",
   "metadata": {},
   "outputs": [
    {
     "data": {
      "image/png": "[encoded data removed]",
      "text/plain": [
       "<Figure size 1152x432 with 1 Axes>"
      ]
     },
     "metadata": {
      "needs_background": "light"
     },
     "output_type": "display_data"
    }
   ],
   "source": [
    "convergence.plot(histories)"
   ]
  },
  {
   "cell_type": "code",
   "execution_count": 11,
   "id": "147beda1",
   "metadata": {},
   "outputs": [
    {
     "data": {
      "image/png": "[encoded data removed]",
      "text/plain": [
       "<Figure size 1152x432 with 1 Axes>"
      ]
     },
     "metadata": {
      "needs_background": "light"
     },
     "output_type": "display_data"
    }
   ],
   "source": [
    "diversity.plot(histories)"
   ]
  },
  {
   "cell_type": "markdown",
   "id": "539d50e8",
   "metadata": {},
   "source": [
    "### Shapito-Wilk Test"
   ]
  },
  {
   "cell_type": "code",
   "execution_count": 12,
   "id": "e806aab6",
   "metadata": {},
   "outputs": [],
   "source": [
    "from source.statistics import shapiro_wilk"
   ]
  },
  {
   "cell_type": "code",
   "execution_count": 13,
   "id": "2c768405",
   "metadata": {},
   "outputs": [],
   "source": [
    "shapiro_wilk_test = {\n",
    "    \"original\": shapiro_wilk.test(original_hs.histories),\n",
    "    \"improved\": shapiro_wilk.test(improved_hs.histories),\n",
    "    \"parameter_adaptive\": shapiro_wilk.test(parameter_adaptive_hs.histories)\n",
    "}"
   ]
  },
  {
   "cell_type": "code",
   "execution_count": 14,
   "id": "f0f20522",
   "metadata": {},
   "outputs": [
    {
     "data": {
      "text/plain": [
       "{'original': (0.9765, 0.0708),\n",
       " 'improved': (0.9794, 0.1188),\n",
       " 'parameter_adaptive': (0.9881, 0.5137)}"
      ]
     },
     "execution_count": 14,
     "metadata": {},
     "output_type": "execute_result"
    }
   ],
   "source": [
    "shapiro_wilk_test"
   ]
  },
  {
   "cell_type": "markdown",
   "id": "d7d3fd7a",
   "metadata": {},
   "source": [
    "### Student's T-test"
   ]
  },
  {
   "cell_type": "code",
   "execution_count": 15,
   "id": "9bac4344",
   "metadata": {},
   "outputs": [],
   "source": [
    "from source.statistics import t_ind"
   ]
  },
  {
   "cell_type": "code",
   "execution_count": 16,
   "id": "85876f52",
   "metadata": {},
   "outputs": [],
   "source": [
    "t_test = {\n",
    "    \"original - improved\": t_ind.test(original_hs.histories, improved_hs.histories),\n",
    "    \"original - parameter_adaptive\": t_ind.test(original_hs.histories, parameter_adaptive_hs.histories),\n",
    "    \"improved - parameter_adaptive\": t_ind.test(improved_hs.histories, parameter_adaptive_hs.histories)\n",
    "}"
   ]
  },
  {
   "cell_type": "code",
   "execution_count": 17,
   "id": "b107a801",
   "metadata": {},
   "outputs": [
    {
     "data": {
      "text/plain": [
       "{'original - improved': (11.4663, 0.0),\n",
       " 'original - parameter_adaptive': (13.2695, 0.0),\n",
       " 'improved - parameter_adaptive': (3.857, 0.0002)}"
      ]
     },
     "execution_count": 17,
     "metadata": {},
     "output_type": "execute_result"
    }
   ],
   "source": [
    "t_test"
   ]
  },
  {
   "cell_type": "code",
   "execution_count": null,
   "id": "d6698925",
   "metadata": {},
   "outputs": [],
   "source": []
  }
 ],
 "metadata": {
  "kernelspec": {
   "display_name": "Python 3 (ipykernel)",
   "language": "python",
   "name": "python3"
  },
  "language_info": {
   "codemirror_mode": {
    "name": "ipython",
    "version": 3
   },
   "file_extension": ".py",
   "mimetype": "text/x-python",
   "name": "python",
   "nbconvert_exporter": "python",
   "pygments_lexer": "ipython3",
   "version": "3.9.7"
  }
 },
 "nbformat": 4,
 "nbformat_minor": 5
}
