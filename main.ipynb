{
 "cells": [
  {
   "cell_type": "markdown",
   "id": "dce6642f",
   "metadata": {},
   "source": [
    "# Metaheuristics Applied to Portuguese Relation Extraction"
   ]
  },
  {
   "cell_type": "code",
   "execution_count": 1,
   "id": "f4960398",
   "metadata": {},
   "outputs": [],
   "source": [
    "import os\n",
    "import pickle"
   ]
  },
  {
   "cell_type": "code",
   "execution_count": 2,
   "id": "c87a44c1",
   "metadata": {},
   "outputs": [],
   "source": [
    "if not os.path.exists(\"workspace\"):\n",
    "    os.mkdir(\"workspace\")"
   ]
  },
  {
   "cell_type": "code",
   "execution_count": 3,
   "id": "5d8e6f90",
   "metadata": {},
   "outputs": [],
   "source": [
    "def save(data, file_name):\n",
    "    with open(f\"workspace/{file_name}.pkl\", \"wb\") as file:\n",
    "        pickle.dump(data, file)"
   ]
  },
  {
   "cell_type": "code",
   "execution_count": 4,
   "id": "f6af7ae1",
   "metadata": {},
   "outputs": [],
   "source": [
    "def load(file_name):\n",
    "    with open(f\"workspace/{file_name}.pkl\", \"rb\") as file:\n",
    "        data = pickle.load(file)\n",
    "    return data"
   ]
  },
  {
   "cell_type": "markdown",
   "id": "8a818521",
   "metadata": {},
   "source": [
    "## Load dataset"
   ]
  },
  {
   "cell_type": "code",
   "execution_count": 5,
   "id": "e1273093",
   "metadata": {},
   "outputs": [],
   "source": [
    "from source.datasets.dbpedia import DBpedia"
   ]
  },
  {
   "cell_type": "code",
   "execution_count": 6,
   "id": "903af92f",
   "metadata": {},
   "outputs": [],
   "source": [
    "dataset = DBpedia(\"data/DBpediaRelations-PT-0.2.txt\")"
   ]
  },
  {
   "cell_type": "code",
   "execution_count": 7,
   "id": "93935e1d",
   "metadata": {},
   "outputs": [
    {
     "name": "stdout",
     "output_type": "stream",
     "text": [
      "number of samples: 15392\n"
     ]
    }
   ],
   "source": [
    "print(f\"number of samples: {len(dataset.data)}\")"
   ]
  },
  {
   "cell_type": "code",
   "execution_count": 8,
   "id": "bf2357b4",
   "metadata": {},
   "outputs": [
    {
     "name": "stdout",
     "output_type": "stream",
     "text": [
      "number of positive samples: 7696\n"
     ]
    }
   ],
   "source": [
    "print(f\"number of positive samples: {sum(dataset.labels)}\")"
   ]
  },
  {
   "cell_type": "code",
   "execution_count": 9,
   "id": "143134d4",
   "metadata": {},
   "outputs": [
    {
     "data": {
      "text/plain": [
       "{'sentence': 'Albert Einstein nasceu na região alemã de Württemberg, na cidade de Ulm, numa família judaica.',\n",
       " 'entity_1': 'Albert Einstein',\n",
       " 'entity_2': 'Württemberg'}"
      ]
     },
     "execution_count": 9,
     "metadata": {},
     "output_type": "execute_result"
    }
   ],
   "source": [
    "dataset.data[0]"
   ]
  },
  {
   "cell_type": "markdown",
   "id": "4d80f83a",
   "metadata": {},
   "source": [
    "## Create features"
   ]
  },
  {
   "cell_type": "code",
   "execution_count": 10,
   "id": "c7e04161",
   "metadata": {},
   "outputs": [],
   "source": [
    "from source.features.tagger import Tagger"
   ]
  },
  {
   "cell_type": "code",
   "execution_count": 11,
   "id": "c1407aea",
   "metadata": {},
   "outputs": [],
   "source": [
    "tagger = Tagger()"
   ]
  },
  {
   "cell_type": "code",
   "execution_count": 12,
   "id": "f0d4022e",
   "metadata": {
    "scrolled": true
   },
   "outputs": [
    {
     "name": "stderr",
     "output_type": "stream",
     "text": [
      "100%|██████████| 15392/15392 [01:27<00:00, 176.08it/s]                                                                                             \n"
     ]
    }
   ],
   "source": [
    "features_raw = tagger.tag(dataset.data)"
   ]
  },
  {
   "cell_type": "code",
   "execution_count": 13,
   "id": "734d3010",
   "metadata": {},
   "outputs": [],
   "source": [
    "save(features_raw, \"features_raw\")"
   ]
  },
  {
   "cell_type": "code",
   "execution_count": 14,
   "id": "cf54d9c4",
   "metadata": {},
   "outputs": [],
   "source": [
    "features_raw = load(\"features_raw\")"
   ]
  },
  {
   "cell_type": "code",
   "execution_count": 15,
   "id": "979fa62e",
   "metadata": {},
   "outputs": [],
   "source": [
    "# Remove incorrect samples\n",
    "\n",
    "data, labels, features = [], [], []\n",
    "for item, label, feature in zip(dataset.data, dataset.labels, features_raw):\n",
    "    if feature:\n",
    "        data.append(item)\n",
    "        labels.append(label)\n",
    "        features.append(feature)"
   ]
  },
  {
   "cell_type": "code",
   "execution_count": 16,
   "id": "5970399c",
   "metadata": {},
   "outputs": [
    {
     "data": {
      "text/plain": [
       "{'sentence': 'Albert Einstein nasceu na região alemã de Württemberg, na cidade de Ulm, numa família judaica.',\n",
       " 'entity_1': 'Albert Einstein',\n",
       " 'entity_2': 'Württemberg'}"
      ]
     },
     "execution_count": 16,
     "metadata": {},
     "output_type": "execute_result"
    }
   ],
   "source": [
    "data[0]"
   ]
  },
  {
   "cell_type": "code",
   "execution_count": 17,
   "id": "af78579d",
   "metadata": {},
   "outputs": [
    {
     "data": {
      "text/plain": [
       "{'between': [100, 85, 92, 84, 85]}"
      ]
     },
     "execution_count": 17,
     "metadata": {},
     "output_type": "execute_result"
    }
   ],
   "source": [
    "features[0]"
   ]
  },
  {
   "cell_type": "code",
   "execution_count": 18,
   "id": "9ce0e3a4",
   "metadata": {
    "scrolled": true
   },
   "outputs": [
    {
     "data": {
      "text/plain": [
       "{'between': ['VERB', 'ADP', 'NOUN', 'ADJ', 'ADP']}"
      ]
     },
     "execution_count": 18,
     "metadata": {},
     "output_type": "execute_result"
    }
   ],
   "source": [
    "tagger.convert_tags_to_strings(features[0])"
   ]
  },
  {
   "cell_type": "markdown",
   "id": "26d273ef",
   "metadata": {},
   "source": [
    "## Select data"
   ]
  },
  {
   "cell_type": "code",
   "execution_count": 19,
   "id": "859b1abb",
   "metadata": {},
   "outputs": [],
   "source": [
    "import random\n",
    "from sklearn.model_selection import train_test_split"
   ]
  },
  {
   "cell_type": "code",
   "execution_count": 20,
   "id": "363a0ee6",
   "metadata": {},
   "outputs": [],
   "source": [
    "random.seed(42)"
   ]
  },
  {
   "cell_type": "code",
   "execution_count": 21,
   "id": "d3cdd805",
   "metadata": {},
   "outputs": [],
   "source": [
    "# Resample due to time limitations\n",
    "\n",
    "N_SAMPLES = 2000\n",
    "\n",
    "index = [i for i in range(0, len(features))]\n",
    "index_sample = random.sample(index, N_SAMPLES)\n",
    "features_sample = [features[i] for i in index_sample]\n",
    "labels_sample = [labels[i] for i in index_sample]"
   ]
  },
  {
   "cell_type": "code",
   "execution_count": 22,
   "id": "8153a133",
   "metadata": {},
   "outputs": [],
   "source": [
    "features_train, features_test, labels_train, labels_test = train_test_split(\n",
    "    features_sample,\n",
    "    labels_sample,\n",
    "    train_size=0.7,\n",
    "    random_state=42\n",
    ")"
   ]
  },
  {
   "cell_type": "code",
   "execution_count": 23,
   "id": "762cfb63",
   "metadata": {},
   "outputs": [
    {
     "name": "stdout",
     "output_type": "stream",
     "text": [
      "number of train samples: 1400\n",
      "number of test samples: 600\n"
     ]
    }
   ],
   "source": [
    "print(f\"number of train samples: {len(features_train)}\")\n",
    "print(f\"number of test samples: {len(features_test)}\")"
   ]
  },
  {
   "cell_type": "code",
   "execution_count": 24,
   "id": "e68b3048",
   "metadata": {},
   "outputs": [
    {
     "name": "stdout",
     "output_type": "stream",
     "text": [
      "number of positive train samples: 677\n",
      "number of positive test samples: 308\n"
     ]
    }
   ],
   "source": [
    "print(f\"number of positive train samples: {sum(labels_train)}\")\n",
    "print(f\"number of positive test samples: {sum(labels_test)}\")"
   ]
  },
  {
   "cell_type": "markdown",
   "id": "efb3b1cd",
   "metadata": {},
   "source": [
    "## Simulated Annealing"
   ]
  },
  {
   "cell_type": "code",
   "execution_count": 25,
   "id": "8e6ea579",
   "metadata": {},
   "outputs": [],
   "source": [
    "from source.metaheuristics.simulated_annealing import SimulatedAnnealing"
   ]
  },
  {
   "cell_type": "code",
   "execution_count": 26,
   "id": "a0576f4e",
   "metadata": {},
   "outputs": [],
   "source": [
    "N_RUNS = 100\n",
    "N_GENERATIONS = 500\n",
    "N_SOLUTIONS = 50\n",
    "N_PARAMETERS = 15"
   ]
  },
  {
   "cell_type": "code",
   "execution_count": 27,
   "id": "2c7b416d",
   "metadata": {},
   "outputs": [],
   "source": [
    "STEP_CHANCE = 0.3\n",
    "INITITAL_TEMPERATURE = 100\n",
    "TEMPERATURE_DECAY = 0.99"
   ]
  },
  {
   "cell_type": "code",
   "execution_count": 28,
   "id": "b903903b",
   "metadata": {},
   "outputs": [],
   "source": [
    "sa = SimulatedAnnealing(\n",
    "    n_runs=N_RUNS,\n",
    "    n_generations=N_GENERATIONS,\n",
    "    n_individuals=N_SOLUTIONS,\n",
    "    n_parameters=N_PARAMETERS,\n",
    "    step_chance=STEP_CHANCE,\n",
    "    initial_temperature=INITITAL_TEMPERATURE,\n",
    "    temperature_decay=TEMPERATURE_DECAY\n",
    ")"
   ]
  },
  {
   "cell_type": "code",
   "execution_count": 29,
   "id": "77124caf",
   "metadata": {
    "scrolled": true
   },
   "outputs": [
    {
     "name": "stdout",
     "output_type": "stream",
     "text": [
      "CPU times: total: 328 ms\n",
      "Wall time: 1h 32min 44s\n"
     ]
    }
   ],
   "source": [
    "%%time\n",
    "\n",
    "sa.fit(features_train, labels_train)"
   ]
  },
  {
   "cell_type": "code",
   "execution_count": 30,
   "id": "b6c493b8",
   "metadata": {},
   "outputs": [
    {
     "data": {
      "text/plain": [
       "{'f1': '0.5825 ± 0.01793',\n",
       " 'precision': '0.8234 ± 0.04761',\n",
       " 'recall': '0.452 ± 0.02313'}"
      ]
     },
     "execution_count": 30,
     "metadata": {},
     "output_type": "execute_result"
    }
   ],
   "source": [
    "sa.evaluate(features_test, labels_test)"
   ]
  },
  {
   "cell_type": "code",
   "execution_count": 31,
   "id": "efe34407",
   "metadata": {},
   "outputs": [],
   "source": [
    "save(sa, \"simulated_annealing\")"
   ]
  },
  {
   "cell_type": "markdown",
   "id": "b99ba4c2",
   "metadata": {},
   "source": [
    "## Genetic Algorithm"
   ]
  },
  {
   "cell_type": "code",
   "execution_count": 32,
   "id": "aa9f4444",
   "metadata": {},
   "outputs": [],
   "source": [
    "from source.metaheuristics.genetic_algorithm import GeneticAlgorithm"
   ]
  },
  {
   "cell_type": "code",
   "execution_count": 33,
   "id": "c4910390",
   "metadata": {},
   "outputs": [],
   "source": [
    "N_ELITES = 10\n",
    "MUTATION_RATE = 0.05"
   ]
  },
  {
   "cell_type": "code",
   "execution_count": 34,
   "id": "874a0bba",
   "metadata": {},
   "outputs": [],
   "source": [
    "ga = GeneticAlgorithm(\n",
    "    n_runs=N_RUNS,\n",
    "    n_generations=N_GENERATIONS,\n",
    "    n_individuals=N_SOLUTIONS,\n",
    "    n_parameters=N_PARAMETERS,\n",
    "    n_elites=N_ELITES,\n",
    "    mutation_rate=MUTATION_RATE\n",
    ")"
   ]
  },
  {
   "cell_type": "code",
   "execution_count": 35,
   "id": "c9358553",
   "metadata": {
    "scrolled": true
   },
   "outputs": [
    {
     "name": "stdout",
     "output_type": "stream",
     "text": [
      "CPU times: total: 10.4 s\n",
      "Wall time: 1h 31min 9s\n"
     ]
    }
   ],
   "source": [
    "%%time\n",
    "\n",
    "ga.fit(features_train, labels_train)"
   ]
  },
  {
   "cell_type": "code",
   "execution_count": 36,
   "id": "c3f0f724",
   "metadata": {},
   "outputs": [
    {
     "data": {
      "text/plain": [
       "{'f1': '0.6456 ± 0.02596',\n",
       " 'precision': '0.7885 ± 0.03348',\n",
       " 'recall': '0.5493 ± 0.04468'}"
      ]
     },
     "execution_count": 36,
     "metadata": {},
     "output_type": "execute_result"
    }
   ],
   "source": [
    "ga.evaluate(features_test, labels_test)"
   ]
  },
  {
   "cell_type": "code",
   "execution_count": 37,
   "id": "9619d659",
   "metadata": {},
   "outputs": [],
   "source": [
    "save(ga, \"genetic_algorithm\")"
   ]
  },
  {
   "cell_type": "markdown",
   "id": "d51610f2",
   "metadata": {},
   "source": [
    "## Harmony Search"
   ]
  },
  {
   "cell_type": "code",
   "execution_count": 38,
   "id": "ff2582db",
   "metadata": {},
   "outputs": [],
   "source": [
    "from source.metaheuristics.harmony_search import HarmonySearch"
   ]
  },
  {
   "cell_type": "code",
   "execution_count": 39,
   "id": "5f7952de",
   "metadata": {},
   "outputs": [],
   "source": [
    "HMCR = 0.9\n",
    "PAR = 0.5"
   ]
  },
  {
   "cell_type": "code",
   "execution_count": 40,
   "id": "e3ad4d70",
   "metadata": {},
   "outputs": [],
   "source": [
    "hs = HarmonySearch(\n",
    "    n_runs=N_RUNS,\n",
    "    n_generations=N_GENERATIONS,\n",
    "    n_harmonies=N_SOLUTIONS,\n",
    "    n_parameters=N_PARAMETERS,\n",
    "    hmcr=HMCR,\n",
    "    par=PAR\n",
    ")"
   ]
  },
  {
   "cell_type": "code",
   "execution_count": 41,
   "id": "b1b83f1a",
   "metadata": {
    "scrolled": true
   },
   "outputs": [
    {
     "name": "stdout",
     "output_type": "stream",
     "text": [
      "CPU times: total: 609 ms\n",
      "Wall time: 1h 46min 28s\n"
     ]
    }
   ],
   "source": [
    "%%time\n",
    "\n",
    "hs.fit(features_train, labels_train)"
   ]
  },
  {
   "cell_type": "code",
   "execution_count": 42,
   "id": "bb6f789c",
   "metadata": {},
   "outputs": [
    {
     "data": {
      "text/plain": [
       "{'f1': '0.6451 ± 0.01587',\n",
       " 'precision': '0.7698 ± 0.0168',\n",
       " 'recall': '0.5561 ± 0.02725'}"
      ]
     },
     "execution_count": 42,
     "metadata": {},
     "output_type": "execute_result"
    }
   ],
   "source": [
    "hs.evaluate(features_test, labels_test)"
   ]
  },
  {
   "cell_type": "code",
   "execution_count": 43,
   "id": "cef7e843",
   "metadata": {},
   "outputs": [],
   "source": [
    "save(hs, \"harmony_search\")"
   ]
  },
  {
   "cell_type": "markdown",
   "id": "eb235145",
   "metadata": {},
   "source": [
    "## Statistical Tests"
   ]
  },
  {
   "cell_type": "code",
   "execution_count": 44,
   "id": "8b3da336",
   "metadata": {},
   "outputs": [],
   "source": [
    "hs = load(\"harmony_search\")"
   ]
  },
  {
   "cell_type": "code",
   "execution_count": 45,
   "id": "e15b49bb",
   "metadata": {},
   "outputs": [],
   "source": [
    "ga = load(\"genetic_algorithm\")"
   ]
  },
  {
   "cell_type": "code",
   "execution_count": 46,
   "id": "01a67420",
   "metadata": {},
   "outputs": [],
   "source": [
    "sa = load(\"simulated_annealing\")"
   ]
  },
  {
   "cell_type": "markdown",
   "id": "7263c4e0",
   "metadata": {},
   "source": [
    "### Histories Visualization"
   ]
  },
  {
   "cell_type": "code",
   "execution_count": 47,
   "id": "0bbaaceb",
   "metadata": {},
   "outputs": [],
   "source": [
    "from source.statistics import convergence, distribution, diversity"
   ]
  },
  {
   "cell_type": "code",
   "execution_count": 48,
   "id": "f7f53e38",
   "metadata": {},
   "outputs": [],
   "source": [
    "histories = {\n",
    "    \"harmony search\": hs.histories,\n",
    "    \"genetic algorithm\": ga.histories,\n",
    "    \"simulated annealing\": sa.histories\n",
    "}"
   ]
  },
  {
   "cell_type": "code",
   "execution_count": 49,
   "id": "df1afaaa",
   "metadata": {},
   "outputs": [
    {
     "data": {
      "image/png": "[encoded data removed]",
      "text/plain": [
       "<Figure size 1152x432 with 1 Axes>"
      ]
     },
     "metadata": {
      "needs_background": "light"
     },
     "output_type": "display_data"
    }
   ],
   "source": [
    "distribution.plot(histories)"
   ]
  },
  {
   "cell_type": "code",
   "execution_count": 50,
   "id": "748d142a",
   "metadata": {},
   "outputs": [
    {
     "data": {
      "image/png": "[encoded data removed]",
      "text/plain": [
       "<Figure size 1152x432 with 1 Axes>"
      ]
     },
     "metadata": {
      "needs_background": "light"
     },
     "output_type": "display_data"
    }
   ],
   "source": [
    "convergence.plot(histories)"
   ]
  },
  {
   "cell_type": "code",
   "execution_count": 51,
   "id": "147beda1",
   "metadata": {},
   "outputs": [
    {
     "data": {
      "image/png": "[encoded data removed]",
      "text/plain": [
       "<Figure size 1152x432 with 1 Axes>"
      ]
     },
     "metadata": {
      "needs_background": "light"
     },
     "output_type": "display_data"
    }
   ],
   "source": [
    "diversity.plot(histories)"
   ]
  },
  {
   "cell_type": "markdown",
   "id": "539d50e8",
   "metadata": {},
   "source": [
    "### Shapiro-Wilk Test"
   ]
  },
  {
   "cell_type": "code",
   "execution_count": 52,
   "id": "e806aab6",
   "metadata": {},
   "outputs": [],
   "source": [
    "from source.statistics import shapiro_wilk"
   ]
  },
  {
   "cell_type": "code",
   "execution_count": 53,
   "id": "2c768405",
   "metadata": {},
   "outputs": [],
   "source": [
    "shapiro_wilk_test = {\n",
    "    \"simulated_annealing\": shapiro_wilk.test(sa.histories),\n",
    "    \"genetic_algorithm\": shapiro_wilk.test(ga.histories),\n",
    "    \"harmony_search\": shapiro_wilk.test(hs.histories)\n",
    "}"
   ]
  },
  {
   "cell_type": "code",
   "execution_count": 54,
   "id": "f0f20522",
   "metadata": {},
   "outputs": [
    {
     "data": {
      "text/plain": [
       "{'simulated_annealing': (0.9836, 0.2527),\n",
       " 'genetic_algorithm': (0.9868, 0.4215),\n",
       " 'harmony_search': (0.9762, 0.0668)}"
      ]
     },
     "execution_count": 54,
     "metadata": {},
     "output_type": "execute_result"
    }
   ],
   "source": [
    "shapiro_wilk_test"
   ]
  },
  {
   "cell_type": "markdown",
   "id": "d7d3fd7a",
   "metadata": {},
   "source": [
    "### Wilcoxon Signed Rank Test"
   ]
  },
  {
   "cell_type": "code",
   "execution_count": 55,
   "id": "9bac4344",
   "metadata": {},
   "outputs": [],
   "source": [
    "from source.statistics import t_ind"
   ]
  },
  {
   "cell_type": "code",
   "execution_count": 56,
   "id": "85876f52",
   "metadata": {},
   "outputs": [],
   "source": [
    "t_test = {\n",
    "    \"hs - ga\": t_ind.test(hs.histories, ga.histories),\n",
    "    \"hs - sa\": t_ind.test(hs.histories, sa.histories),\n",
    "    \"ga - sa\": t_ind.test(ga.histories, sa.histories)\n",
    "}"
   ]
  },
  {
   "cell_type": "code",
   "execution_count": 57,
   "id": "b107a801",
   "metadata": {},
   "outputs": [
    {
     "data": {
      "text/plain": [
       "{'hs - ga': (196.0, 0.0), 'hs - sa': (0.0, 0.0), 'ga - sa': (1.0, 0.0)}"
      ]
     },
     "execution_count": 57,
     "metadata": {},
     "output_type": "execute_result"
    }
   ],
   "source": [
    "t_test"
   ]
  },
  {
   "cell_type": "code",
   "execution_count": null,
   "id": "c01b9bdd",
   "metadata": {},
   "outputs": [],
   "source": []
  }
 ],
 "metadata": {
  "kernelspec": {
   "display_name": "Python 3 (ipykernel)",
   "language": "python",
   "name": "python3"
  },
  "language_info": {
   "codemirror_mode": {
    "name": "ipython",
    "version": 3
   },
   "file_extension": ".py",
   "mimetype": "text/x-python",
   "name": "python",
   "nbconvert_exporter": "python",
   "pygments_lexer": "ipython3",
   "version": "3.9.7"
  }
 },
 "nbformat": 4,
 "nbformat_minor": 5
}
